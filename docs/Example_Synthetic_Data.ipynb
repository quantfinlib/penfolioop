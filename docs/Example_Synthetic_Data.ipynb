{
 "cells": [
  {
   "cell_type": "markdown",
   "id": "d6a114a0",
   "metadata": {},
   "source": [
    "# Example usage of PenFolioOp with synthetic data"
   ]
  }
 ],
 "metadata": {
  "language_info": {
   "name": "python"
  }
 },
 "nbformat": 4,
 "nbformat_minor": 5
}
